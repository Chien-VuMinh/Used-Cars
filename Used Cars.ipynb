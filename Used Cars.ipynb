{
 "cells": [
  {
   "cell_type": "markdown",
   "metadata": {},
   "source": [
    "# Used-Cars\n",
    "\n",
    "## Programming for Data Science Course from University of Science\n",
    "## Final project\n",
    "\n",
    "\n",
    "\n",
    "### Team members\n",
    "<center>\n",
    "\n",
    "|Thành viên           |MSSV     |\n",
    "|:-------------------|:-------|\n",
    "|Vũ Minh Chiến        |22127045 |\n",
    "|Quách Trần Quán Vinh |22127460 |\n",
    "\n",
    "</center>"
   ]
  },
  {
   "cell_type": "markdown",
   "metadata": {},
   "source": [
    "### **1. Collecting data**\n",
    "\n",
    "What subject is your data about?\n",
    "- Craigslist is the world's largest collection of used vehicles for sale, this dataset includes part of used vehicle entry within the United States on Craigslist.\n",
    "\n",
    "What is the source of your data?\n",
    "- The source of this data set can be found in [kaggle](https://www.kaggle.com/datasets/austinreese/craigslist-carstrucks-data/data). For this project, we have reduce the origin data set, which contains 426880 rows, down to 150000 rows (the reason for this will be mentioned in reflection part).\n",
    "\n",
    "Do authors of this data allow you to use like this?\n",
    "- Yes, this data set have `CC0: Public Domain` license (you can find more informaitons about the license [here](https://creativecommons.org/publicdomain/zero/1.0/)).\n",
    "\n",
    "How did authors collect data?\n",
    "- The arthor collect data by a web application built with Flask which scrapes used vehicle listings weekly from all regional Craigslist sites in the United States (you can find more informaitons on scraping process [here](https://github.com/AustinReese/UsedVehicleSearch))."
   ]
  },
  {
   "cell_type": "markdown",
   "metadata": {},
   "source": [
    "Import necessary libraries"
   ]
  },
  {
   "cell_type": "code",
   "execution_count": 7,
   "metadata": {},
   "outputs": [],
   "source": [
    "import zipfile\n",
    "import pandas as pd"
   ]
  },
  {
   "cell_type": "markdown",
   "metadata": {},
   "source": [
    "Read the dataset"
   ]
  },
  {
   "cell_type": "code",
   "execution_count": 8,
   "metadata": {},
   "outputs": [],
   "source": [
    "df = pd.read_csv('vehicles.zip', delimiter=',',compression='zip')"
   ]
  },
  {
   "cell_type": "markdown",
   "metadata": {},
   "source": [
    "### **2. Exploring data**"
   ]
  },
  {
   "cell_type": "code",
   "execution_count": 9,
   "metadata": {},
   "outputs": [
    {
     "data": {
      "text/html": [
       "<div>\n",
       "<style scoped>\n",
       "    .dataframe tbody tr th:only-of-type {\n",
       "        vertical-align: middle;\n",
       "    }\n",
       "\n",
       "    .dataframe tbody tr th {\n",
       "        vertical-align: top;\n",
       "    }\n",
       "\n",
       "    .dataframe thead th {\n",
       "        text-align: right;\n",
       "    }\n",
       "</style>\n",
       "<table border=\"1\" class=\"dataframe\">\n",
       "  <thead>\n",
       "    <tr style=\"text-align: right;\">\n",
       "      <th></th>\n",
       "      <th>id</th>\n",
       "      <th>url</th>\n",
       "      <th>region</th>\n",
       "      <th>region_url</th>\n",
       "      <th>price</th>\n",
       "      <th>year</th>\n",
       "      <th>manufacturer</th>\n",
       "      <th>model</th>\n",
       "      <th>condition</th>\n",
       "      <th>cylinders</th>\n",
       "      <th>...</th>\n",
       "      <th>size</th>\n",
       "      <th>type</th>\n",
       "      <th>paint_color</th>\n",
       "      <th>image_url</th>\n",
       "      <th>description</th>\n",
       "      <th>county</th>\n",
       "      <th>state</th>\n",
       "      <th>lat</th>\n",
       "      <th>long</th>\n",
       "      <th>posting_date</th>\n",
       "    </tr>\n",
       "  </thead>\n",
       "  <tbody>\n",
       "    <tr>\n",
       "      <th>97955</th>\n",
       "      <td>7313751282</td>\n",
       "      <td>https://winstonsalem.craigslist.org/ctd/d/wins...</td>\n",
       "      <td>winston-salem</td>\n",
       "      <td>https://winstonsalem.craigslist.org</td>\n",
       "      <td>23590</td>\n",
       "      <td>2017.0</td>\n",
       "      <td>nissan</td>\n",
       "      <td>frontier king cab sv</td>\n",
       "      <td>good</td>\n",
       "      <td>NaN</td>\n",
       "      <td>...</td>\n",
       "      <td>NaN</td>\n",
       "      <td>pickup</td>\n",
       "      <td>red</td>\n",
       "      <td>https://images.craigslist.org/00R0R_aLtwcjHyVj...</td>\n",
       "      <td>Carvana is the safer way to buy a car During t...</td>\n",
       "      <td>NaN</td>\n",
       "      <td>nc</td>\n",
       "      <td>36.100000</td>\n",
       "      <td>-80.240000</td>\n",
       "      <td>2021-04-28T08:21:16-0400</td>\n",
       "    </tr>\n",
       "    <tr>\n",
       "      <th>23646</th>\n",
       "      <td>7312385581</td>\n",
       "      <td>https://desmoines.craigslist.org/ctd/d/des-moi...</td>\n",
       "      <td>des moines</td>\n",
       "      <td>https://desmoines.craigslist.org</td>\n",
       "      <td>0</td>\n",
       "      <td>1949.0</td>\n",
       "      <td>chrysler</td>\n",
       "      <td>windsor</td>\n",
       "      <td>excellent</td>\n",
       "      <td>NaN</td>\n",
       "      <td>...</td>\n",
       "      <td>NaN</td>\n",
       "      <td>NaN</td>\n",
       "      <td>green</td>\n",
       "      <td>https://images.craigslist.org/00R0R_bO2wthKNFD...</td>\n",
       "      <td>1949 *** CHRYSLER WINDSOR  ***    Drive it hom...</td>\n",
       "      <td>NaN</td>\n",
       "      <td>ia</td>\n",
       "      <td>41.542262</td>\n",
       "      <td>-93.625184</td>\n",
       "      <td>2021-04-25T12:00:23-0500</td>\n",
       "    </tr>\n",
       "    <tr>\n",
       "      <th>50688</th>\n",
       "      <td>7310398472</td>\n",
       "      <td>https://maine.craigslist.org/ctd/d/burnham-201...</td>\n",
       "      <td>maine</td>\n",
       "      <td>https://maine.craigslist.org</td>\n",
       "      <td>14955</td>\n",
       "      <td>2010.0</td>\n",
       "      <td>jeep</td>\n",
       "      <td>wrangler</td>\n",
       "      <td>NaN</td>\n",
       "      <td>NaN</td>\n",
       "      <td>...</td>\n",
       "      <td>NaN</td>\n",
       "      <td>NaN</td>\n",
       "      <td>green</td>\n",
       "      <td>https://images.craigslist.org/00R0R_fXStqWpoUf...</td>\n",
       "      <td>Second Street Auto - 1000 Second Street - Manc...</td>\n",
       "      <td>NaN</td>\n",
       "      <td>me</td>\n",
       "      <td>44.693199</td>\n",
       "      <td>-69.334602</td>\n",
       "      <td>2021-04-21T12:53:58-0400</td>\n",
       "    </tr>\n",
       "    <tr>\n",
       "      <th>13772</th>\n",
       "      <td>7305822732</td>\n",
       "      <td>https://charlestonwv.craigslist.org/ctd/d/chil...</td>\n",
       "      <td>charleston</td>\n",
       "      <td>https://charlestonwv.craigslist.org</td>\n",
       "      <td>26988</td>\n",
       "      <td>2015.0</td>\n",
       "      <td>ford</td>\n",
       "      <td>f-350sd</td>\n",
       "      <td>excellent</td>\n",
       "      <td>NaN</td>\n",
       "      <td>...</td>\n",
       "      <td>NaN</td>\n",
       "      <td>pickup</td>\n",
       "      <td>NaN</td>\n",
       "      <td>https://images.craigslist.org/01414_gv6NYSJOmm...</td>\n",
       "      <td>Drive it home today. Call us now !!Call ☏ (740...</td>\n",
       "      <td>NaN</td>\n",
       "      <td>wv</td>\n",
       "      <td>39.334610</td>\n",
       "      <td>-82.949321</td>\n",
       "      <td>2021-04-12T16:05:05-0400</td>\n",
       "    </tr>\n",
       "    <tr>\n",
       "      <th>90208</th>\n",
       "      <td>7314348429</td>\n",
       "      <td>https://topeka.craigslist.org/ctd/d/topeka-200...</td>\n",
       "      <td>topeka</td>\n",
       "      <td>https://topeka.craigslist.org</td>\n",
       "      <td>4850</td>\n",
       "      <td>2005.0</td>\n",
       "      <td>ford</td>\n",
       "      <td>ranger edge</td>\n",
       "      <td>good</td>\n",
       "      <td>6 cylinders</td>\n",
       "      <td>...</td>\n",
       "      <td>mid-size</td>\n",
       "      <td>pickup</td>\n",
       "      <td>grey</td>\n",
       "      <td>https://images.craigslist.org/00l0l_437Nt2DLRW...</td>\n",
       "      <td>2005 Ford Ranger 3.0 5 Speed Short Bed very ni...</td>\n",
       "      <td>NaN</td>\n",
       "      <td>ks</td>\n",
       "      <td>39.058300</td>\n",
       "      <td>-95.709500</td>\n",
       "      <td>2021-04-29T11:03:15-0500</td>\n",
       "    </tr>\n",
       "  </tbody>\n",
       "</table>\n",
       "<p>5 rows × 26 columns</p>\n",
       "</div>"
      ],
      "text/plain": [
       "               id                                                url  \\\n",
       "97955  7313751282  https://winstonsalem.craigslist.org/ctd/d/wins...   \n",
       "23646  7312385581  https://desmoines.craigslist.org/ctd/d/des-moi...   \n",
       "50688  7310398472  https://maine.craigslist.org/ctd/d/burnham-201...   \n",
       "13772  7305822732  https://charlestonwv.craigslist.org/ctd/d/chil...   \n",
       "90208  7314348429  https://topeka.craigslist.org/ctd/d/topeka-200...   \n",
       "\n",
       "              region                           region_url  price    year  \\\n",
       "97955  winston-salem  https://winstonsalem.craigslist.org  23590  2017.0   \n",
       "23646     des moines     https://desmoines.craigslist.org      0  1949.0   \n",
       "50688          maine         https://maine.craigslist.org  14955  2010.0   \n",
       "13772     charleston  https://charlestonwv.craigslist.org  26988  2015.0   \n",
       "90208         topeka        https://topeka.craigslist.org   4850  2005.0   \n",
       "\n",
       "      manufacturer                 model  condition    cylinders  ...  \\\n",
       "97955       nissan  frontier king cab sv       good          NaN  ...   \n",
       "23646     chrysler               windsor  excellent          NaN  ...   \n",
       "50688         jeep              wrangler        NaN          NaN  ...   \n",
       "13772         ford               f-350sd  excellent          NaN  ...   \n",
       "90208         ford           ranger edge       good  6 cylinders  ...   \n",
       "\n",
       "           size    type paint_color  \\\n",
       "97955       NaN  pickup         red   \n",
       "23646       NaN     NaN       green   \n",
       "50688       NaN     NaN       green   \n",
       "13772       NaN  pickup         NaN   \n",
       "90208  mid-size  pickup        grey   \n",
       "\n",
       "                                               image_url  \\\n",
       "97955  https://images.craigslist.org/00R0R_aLtwcjHyVj...   \n",
       "23646  https://images.craigslist.org/00R0R_bO2wthKNFD...   \n",
       "50688  https://images.craigslist.org/00R0R_fXStqWpoUf...   \n",
       "13772  https://images.craigslist.org/01414_gv6NYSJOmm...   \n",
       "90208  https://images.craigslist.org/00l0l_437Nt2DLRW...   \n",
       "\n",
       "                                             description county state  \\\n",
       "97955  Carvana is the safer way to buy a car During t...    NaN    nc   \n",
       "23646  1949 *** CHRYSLER WINDSOR  ***    Drive it hom...    NaN    ia   \n",
       "50688  Second Street Auto - 1000 Second Street - Manc...    NaN    me   \n",
       "13772  Drive it home today. Call us now !!Call ☏ (740...    NaN    wv   \n",
       "90208  2005 Ford Ranger 3.0 5 Speed Short Bed very ni...    NaN    ks   \n",
       "\n",
       "             lat       long              posting_date  \n",
       "97955  36.100000 -80.240000  2021-04-28T08:21:16-0400  \n",
       "23646  41.542262 -93.625184  2021-04-25T12:00:23-0500  \n",
       "50688  44.693199 -69.334602  2021-04-21T12:53:58-0400  \n",
       "13772  39.334610 -82.949321  2021-04-12T16:05:05-0400  \n",
       "90208  39.058300 -95.709500  2021-04-29T11:03:15-0500  \n",
       "\n",
       "[5 rows x 26 columns]"
      ]
     },
     "execution_count": 9,
     "metadata": {},
     "output_type": "execute_result"
    }
   ],
   "source": [
    "# display dataset\n",
    "df.sample(5)"
   ]
  },
  {
   "cell_type": "markdown",
   "metadata": {},
   "source": [
    "##### How many rows and columns?"
   ]
  },
  {
   "cell_type": "code",
   "execution_count": 10,
   "metadata": {},
   "outputs": [
    {
     "data": {
      "text/plain": [
       "(100000, 26)"
      ]
     },
     "execution_count": 10,
     "metadata": {},
     "output_type": "execute_result"
    }
   ],
   "source": [
    "df.shape"
   ]
  },
  {
   "cell_type": "markdown",
   "metadata": {},
   "source": [
    "##### What is the meaning of each row/column?\n",
    "\n",
    "- Please refer to [kaggle](https://www.kaggle.com/datasets/austinreese/craigslist-carstrucks-data/data) in order to get the meaning of each column.\n",
    "- Each row corresponds to an used car with different attributes being sale."
   ]
  },
  {
   "cell_type": "markdown",
   "metadata": {},
   "source": [
    "##### Are there any duplicated rows?"
   ]
  },
  {
   "cell_type": "code",
   "execution_count": 11,
   "metadata": {},
   "outputs": [
    {
     "data": {
      "text/plain": [
       "np.int64(0)"
      ]
     },
     "execution_count": 11,
     "metadata": {},
     "output_type": "execute_result"
    }
   ],
   "source": [
    "df.duplicated().sum()"
   ]
  },
  {
   "cell_type": "markdown",
   "metadata": {},
   "source": [
    "##### What is the current data type of each column? Are there columns having inappropriate data types?"
   ]
  },
  {
   "cell_type": "code",
   "execution_count": 13,
   "metadata": {},
   "outputs": [
    {
     "data": {
      "text/plain": [
       "id                int64\n",
       "url              object\n",
       "region           object\n",
       "region_url       object\n",
       "price             int64\n",
       "year            float64\n",
       "manufacturer     object\n",
       "model            object\n",
       "condition        object\n",
       "cylinders        object\n",
       "fuel             object\n",
       "odometer        float64\n",
       "title_status     object\n",
       "transmission     object\n",
       "VIN              object\n",
       "drive            object\n",
       "size             object\n",
       "type             object\n",
       "paint_color      object\n",
       "image_url        object\n",
       "description      object\n",
       "county          float64\n",
       "state            object\n",
       "lat             float64\n",
       "long            float64\n",
       "posting_date     object\n",
       "dtype: object"
      ]
     },
     "execution_count": 13,
     "metadata": {},
     "output_type": "execute_result"
    }
   ],
   "source": [
    "df.dtypes"
   ]
  },
  {
   "cell_type": "markdown",
   "metadata": {},
   "source": [
    "`county` should be object type instead of float64 type."
   ]
  },
  {
   "cell_type": "markdown",
   "metadata": {},
   "source": [
    "##### With each numerical column, how are values distributed?"
   ]
  },
  {
   "cell_type": "markdown",
   "metadata": {},
   "source": [
    "##### With each categorical column, how are values distributed?"
   ]
  },
  {
   "cell_type": "markdown",
   "metadata": {},
   "source": [
    "### **3. Asking meaningful questions**"
   ]
  },
  {
   "cell_type": "markdown",
   "metadata": {},
   "source": [
    "##### What factors most significantly impact used car prices?\n",
    "##### How does vehicle price vary with odometer reading across manufacturers?\n",
    "##### What is the relationship between vehicle condition and posting date (e.g., do sellers list damaged vehicles more often at certain times of the year)?\n",
    "##### What is the average time between a vehicle's manufacturing year and its sale listing date? How does this vary by type, region, or price?\n",
    "##### What are the most common paint colors for specific vehicle types, and how does this affect their resale value?\n",
    "##### Which manufacturers or models tend to dominate specific regions, and how does this affect their pricing?\n",
    "##### How does the presence of a VIN (Vehicle Identification Number) affect vehicle pricing and perceived quality?"
   ]
  }
 ],
 "metadata": {
  "kernelspec": {
   "display_name": "min_ds-env",
   "language": "python",
   "name": "python3"
  },
  "language_info": {
   "codemirror_mode": {
    "name": "ipython",
    "version": 3
   },
   "file_extension": ".py",
   "mimetype": "text/x-python",
   "name": "python",
   "nbconvert_exporter": "python",
   "pygments_lexer": "ipython3",
   "version": "3.12.7"
  }
 },
 "nbformat": 4,
 "nbformat_minor": 2
}
