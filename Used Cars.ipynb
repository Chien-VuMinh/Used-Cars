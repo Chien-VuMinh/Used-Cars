{
 "cells": [
  {
   "cell_type": "markdown",
   "metadata": {},
   "source": [
    "# Used-Cars\n",
    "\n",
    "## Programming for Data Science Course from University of Science\n",
    "## Final project\n",
    "\n",
    "\n",
    "\n",
    "### Team members\n",
    "<center>\n",
    "\n",
    "|Thành viên           |MSSV     |\n",
    "|:-------------------|:-------|\n",
    "|Vũ Minh Chiến        |22127045 |\n",
    "|Quách Trần Quán Vinh |22127460 |\n",
    "\n",
    "</center>"
   ]
  },
  {
   "cell_type": "markdown",
   "metadata": {},
   "source": [
    "### **1. Collecting data**\n",
    "\n",
    "What subject is your data about?\n",
    "- Craigslist is the world's largest collection of used vehicles for sale, this dataset includes part of used vehicle entry within the United States on Craigslist.\n",
    "\n",
    "What is the source of your data?\n",
    "- The source of this data set can be found in [kaggle](https://www.kaggle.com/datasets/austinreese/craigslist-carstrucks-data/data). For this project, we have reduce the origin data set, which contains 426880 rows, down to 150000 rows (the reason for this will be mentioned in reflection part).\n",
    "\n",
    "Do authors of this data allow you to use like this?\n",
    "- Yes, this data set have `CC0: Public Domain` license (you can find more informaitons about the license [here](https://creativecommons.org/publicdomain/zero/1.0/)).\n",
    "\n",
    "How did authors collect data?\n",
    "- The arthor collect data by a web application built with Flask which scrapes used vehicle listings weekly from all regional Craigslist sites in the United States (you can find more informaitons on scraping process [here](https://github.com/AustinReese/UsedVehicleSearch))."
   ]
  },
  {
   "cell_type": "markdown",
   "metadata": {},
   "source": [
    "##### Import necessary libraries"
   ]
  },
  {
   "cell_type": "code",
   "execution_count": 72,
   "metadata": {},
   "outputs": [],
   "source": [
    "import zipfile\n",
    "import pandas as pd\n",
    "import matplotlib.pyplot as plt\n",
    "import numpy as np"
   ]
  },
  {
   "cell_type": "markdown",
   "metadata": {},
   "source": [
    "##### Read the dataset"
   ]
  },
  {
   "cell_type": "code",
   "execution_count": 73,
   "metadata": {},
   "outputs": [],
   "source": [
    "df = pd.read_csv('vehicles.zip', delimiter=',', compression='zip')"
   ]
  },
  {
   "cell_type": "markdown",
   "metadata": {},
   "source": [
    "### **2. Exploring data**"
   ]
  },
  {
   "cell_type": "code",
   "execution_count": 74,
   "metadata": {},
   "outputs": [
    {
     "data": {
      "text/html": [
       "<div>\n",
       "<style scoped>\n",
       "    .dataframe tbody tr th:only-of-type {\n",
       "        vertical-align: middle;\n",
       "    }\n",
       "\n",
       "    .dataframe tbody tr th {\n",
       "        vertical-align: top;\n",
       "    }\n",
       "\n",
       "    .dataframe thead th {\n",
       "        text-align: right;\n",
       "    }\n",
       "</style>\n",
       "<table border=\"1\" class=\"dataframe\">\n",
       "  <thead>\n",
       "    <tr style=\"text-align: right;\">\n",
       "      <th></th>\n",
       "      <th>id</th>\n",
       "      <th>url</th>\n",
       "      <th>region</th>\n",
       "      <th>region_url</th>\n",
       "      <th>price</th>\n",
       "      <th>year</th>\n",
       "      <th>manufacturer</th>\n",
       "      <th>model</th>\n",
       "      <th>condition</th>\n",
       "      <th>cylinders</th>\n",
       "      <th>...</th>\n",
       "      <th>size</th>\n",
       "      <th>type</th>\n",
       "      <th>paint_color</th>\n",
       "      <th>image_url</th>\n",
       "      <th>description</th>\n",
       "      <th>county</th>\n",
       "      <th>state</th>\n",
       "      <th>lat</th>\n",
       "      <th>long</th>\n",
       "      <th>posting_date</th>\n",
       "    </tr>\n",
       "  </thead>\n",
       "  <tbody>\n",
       "    <tr>\n",
       "      <th>55743</th>\n",
       "      <td>7313950423</td>\n",
       "      <td>https://monroemi.craigslist.org/ctd/d/dundee-2...</td>\n",
       "      <td>monroe</td>\n",
       "      <td>https://monroemi.craigslist.org</td>\n",
       "      <td>6700</td>\n",
       "      <td>2011.0</td>\n",
       "      <td>dodge</td>\n",
       "      <td>journey</td>\n",
       "      <td>excellent</td>\n",
       "      <td>6 cylinders</td>\n",
       "      <td>...</td>\n",
       "      <td>mid-size</td>\n",
       "      <td>SUV</td>\n",
       "      <td>black</td>\n",
       "      <td>https://images.craigslist.org/01515_eUvqE3fUtc...</td>\n",
       "      <td>2011 Dodge Journey 3.5L 6 cyl 142,280 miles au...</td>\n",
       "      <td>NaN</td>\n",
       "      <td>mi</td>\n",
       "      <td>41.954350</td>\n",
       "      <td>-83.657645</td>\n",
       "      <td>2021-04-28T14:26:40-0400</td>\n",
       "    </tr>\n",
       "    <tr>\n",
       "      <th>64500</th>\n",
       "      <td>7316617083</td>\n",
       "      <td>https://orangecounty.craigslist.org/cto/d/miss...</td>\n",
       "      <td>orange county</td>\n",
       "      <td>https://orangecounty.craigslist.org</td>\n",
       "      <td>26800</td>\n",
       "      <td>2013.0</td>\n",
       "      <td>ford</td>\n",
       "      <td>mustang gt premium</td>\n",
       "      <td>excellent</td>\n",
       "      <td>8 cylinders</td>\n",
       "      <td>...</td>\n",
       "      <td>NaN</td>\n",
       "      <td>coupe</td>\n",
       "      <td>black</td>\n",
       "      <td>https://images.craigslist.org/00Z0Z_34mYOFc244...</td>\n",
       "      <td>61,550 Miles (first pictures are more recent, ...</td>\n",
       "      <td>NaN</td>\n",
       "      <td>ca</td>\n",
       "      <td>33.614400</td>\n",
       "      <td>-117.643300</td>\n",
       "      <td>2021-05-04T01:24:38-0700</td>\n",
       "    </tr>\n",
       "    <tr>\n",
       "      <th>42504</th>\n",
       "      <td>7301907393</td>\n",
       "      <td>https://kenai.craigslist.org/cto/d/sterling-19...</td>\n",
       "      <td>kenai peninsula</td>\n",
       "      <td>https://kenai.craigslist.org</td>\n",
       "      <td>1500</td>\n",
       "      <td>1978.0</td>\n",
       "      <td>mercury</td>\n",
       "      <td>zephyr</td>\n",
       "      <td>good</td>\n",
       "      <td>8 cylinders</td>\n",
       "      <td>...</td>\n",
       "      <td>mid-size</td>\n",
       "      <td>NaN</td>\n",
       "      <td>yellow</td>\n",
       "      <td>https://images.craigslist.org/00r0r_jsGsQymQ6N...</td>\n",
       "      <td>Rare car V8 automatic posi-trac runes and driv...</td>\n",
       "      <td>NaN</td>\n",
       "      <td>ak</td>\n",
       "      <td>60.614000</td>\n",
       "      <td>-151.255000</td>\n",
       "      <td>2021-04-04T18:44:18-0800</td>\n",
       "    </tr>\n",
       "    <tr>\n",
       "      <th>45226</th>\n",
       "      <td>7315280360</td>\n",
       "      <td>https://lansing.craigslist.org/cto/d/south-lyo...</td>\n",
       "      <td>lansing</td>\n",
       "      <td>https://lansing.craigslist.org</td>\n",
       "      <td>12500</td>\n",
       "      <td>2009.0</td>\n",
       "      <td>ford</td>\n",
       "      <td>f150 4x4</td>\n",
       "      <td>good</td>\n",
       "      <td>8 cylinders</td>\n",
       "      <td>...</td>\n",
       "      <td>NaN</td>\n",
       "      <td>truck</td>\n",
       "      <td>blue</td>\n",
       "      <td>https://images.craigslist.org/00D0D_fo0SUG9qNG...</td>\n",
       "      <td>2009 Ford F-150 XLT SuperCrew 4x4. Mechanicall...</td>\n",
       "      <td>NaN</td>\n",
       "      <td>mi</td>\n",
       "      <td>42.456700</td>\n",
       "      <td>-83.659000</td>\n",
       "      <td>2021-05-01T10:30:35-0400</td>\n",
       "    </tr>\n",
       "    <tr>\n",
       "      <th>98381</th>\n",
       "      <td>7303739980</td>\n",
       "      <td>https://worcester.craigslist.org/ctd/d/manchau...</td>\n",
       "      <td>worcester / central MA</td>\n",
       "      <td>https://worcester.craigslist.org</td>\n",
       "      <td>13999</td>\n",
       "      <td>2008.0</td>\n",
       "      <td>jeep</td>\n",
       "      <td>wrangler sahara</td>\n",
       "      <td>good</td>\n",
       "      <td>6 cylinders</td>\n",
       "      <td>...</td>\n",
       "      <td>NaN</td>\n",
       "      <td>NaN</td>\n",
       "      <td>black</td>\n",
       "      <td>https://images.craigslist.org/00A0A_dik8hrzRpW...</td>\n",
       "      <td>Nice Jeep just in time for summer</td>\n",
       "      <td>NaN</td>\n",
       "      <td>ma</td>\n",
       "      <td>42.101245</td>\n",
       "      <td>-71.704538</td>\n",
       "      <td>2021-04-08T13:39:57-0400</td>\n",
       "    </tr>\n",
       "  </tbody>\n",
       "</table>\n",
       "<p>5 rows × 26 columns</p>\n",
       "</div>"
      ],
      "text/plain": [
       "               id                                                url  \\\n",
       "55743  7313950423  https://monroemi.craigslist.org/ctd/d/dundee-2...   \n",
       "64500  7316617083  https://orangecounty.craigslist.org/cto/d/miss...   \n",
       "42504  7301907393  https://kenai.craigslist.org/cto/d/sterling-19...   \n",
       "45226  7315280360  https://lansing.craigslist.org/cto/d/south-lyo...   \n",
       "98381  7303739980  https://worcester.craigslist.org/ctd/d/manchau...   \n",
       "\n",
       "                       region                           region_url  price  \\\n",
       "55743                  monroe      https://monroemi.craigslist.org   6700   \n",
       "64500           orange county  https://orangecounty.craigslist.org  26800   \n",
       "42504         kenai peninsula         https://kenai.craigslist.org   1500   \n",
       "45226                 lansing       https://lansing.craigslist.org  12500   \n",
       "98381  worcester / central MA     https://worcester.craigslist.org  13999   \n",
       "\n",
       "         year manufacturer               model  condition    cylinders  ...  \\\n",
       "55743  2011.0        dodge             journey  excellent  6 cylinders  ...   \n",
       "64500  2013.0         ford  mustang gt premium  excellent  8 cylinders  ...   \n",
       "42504  1978.0      mercury              zephyr       good  8 cylinders  ...   \n",
       "45226  2009.0         ford            f150 4x4       good  8 cylinders  ...   \n",
       "98381  2008.0         jeep     wrangler sahara       good  6 cylinders  ...   \n",
       "\n",
       "           size   type paint_color  \\\n",
       "55743  mid-size    SUV       black   \n",
       "64500       NaN  coupe       black   \n",
       "42504  mid-size    NaN      yellow   \n",
       "45226       NaN  truck        blue   \n",
       "98381       NaN    NaN       black   \n",
       "\n",
       "                                               image_url  \\\n",
       "55743  https://images.craigslist.org/01515_eUvqE3fUtc...   \n",
       "64500  https://images.craigslist.org/00Z0Z_34mYOFc244...   \n",
       "42504  https://images.craigslist.org/00r0r_jsGsQymQ6N...   \n",
       "45226  https://images.craigslist.org/00D0D_fo0SUG9qNG...   \n",
       "98381  https://images.craigslist.org/00A0A_dik8hrzRpW...   \n",
       "\n",
       "                                             description county state  \\\n",
       "55743  2011 Dodge Journey 3.5L 6 cyl 142,280 miles au...    NaN    mi   \n",
       "64500  61,550 Miles (first pictures are more recent, ...    NaN    ca   \n",
       "42504  Rare car V8 automatic posi-trac runes and driv...    NaN    ak   \n",
       "45226  2009 Ford F-150 XLT SuperCrew 4x4. Mechanicall...    NaN    mi   \n",
       "98381                  Nice Jeep just in time for summer    NaN    ma   \n",
       "\n",
       "             lat        long              posting_date  \n",
       "55743  41.954350  -83.657645  2021-04-28T14:26:40-0400  \n",
       "64500  33.614400 -117.643300  2021-05-04T01:24:38-0700  \n",
       "42504  60.614000 -151.255000  2021-04-04T18:44:18-0800  \n",
       "45226  42.456700  -83.659000  2021-05-01T10:30:35-0400  \n",
       "98381  42.101245  -71.704538  2021-04-08T13:39:57-0400  \n",
       "\n",
       "[5 rows x 26 columns]"
      ]
     },
     "execution_count": 74,
     "metadata": {},
     "output_type": "execute_result"
    }
   ],
   "source": [
    "# display dataset\n",
    "df.sample(5)"
   ]
  },
  {
   "cell_type": "markdown",
   "metadata": {},
   "source": [
    "##### How many rows and columns are there in the dataset?"
   ]
  },
  {
   "cell_type": "code",
   "execution_count": 75,
   "metadata": {},
   "outputs": [
    {
     "name": "stdout",
     "output_type": "stream",
     "text": [
      "Number of rows: 100000 \n",
      "Number of columns: 26\n"
     ]
    }
   ],
   "source": [
    "rows, cols = df.shape\n",
    "print(f'Number of rows: {rows} \\nNumber of columns: {cols}')"
   ]
  },
  {
   "cell_type": "markdown",
   "metadata": {},
   "source": [
    "##### What is the meaning of each row/column?\n",
    "\n",
    "- Each row corresponds to an used car with different attributes being sale.\n",
    "- Columns meaning:\n",
    "  - `id`: A unique identifier for each vehicle. Used to distinguish records in the dataset.\n",
    "  - `url`: A **Craigslist** web address of the vehicle.\n",
    "  - `region`: The geographic area where the vehicle is listed for sale.\n",
    "  - `region_url`: A **Craigslist** web address for the region's page where the vehicle is listed..\n",
    "  - `price`: Price of the vehicle.\n",
    "  - `year`: The manufacturing year of the vehicle.\n",
    "  - `manufacturer`: The brand or company that manufactured the vehicle.\n",
    "  - `model`: The specific model of the vehicle.\n",
    "  - `condition`: The state of the vehicle.\n",
    "  - `cylinders`: The number of cylinders in the engine.\n",
    "  - `fuel`: The type of fuel the vehicle uses.\n",
    "  - `odometer`: The mileage of the vehicle at the time of listing.\n",
    "  - `title_status`: The legal status of the vehicle's title (e.g., clean, salvage).\n",
    "  - `transmission`: The type of transmission system (e.g., automatic, manual).\n",
    "  - `VIN`: Vehicle Identification Number—a unique code assigned to every vehicle.\n",
    "  - `drive`: The drivetrain type (e.g., front-wheel drive (FWD), rear-wheel drive (RWD)).\n",
    "  - `size`: The physical size of the vehicle.\n",
    "  - `type`: The vehicle's purpose or category (e.g., SUV, sedan, truck).\n",
    "  - `paint_color`: The color of the vehicle's exterior paint.\n",
    "  - `image_url`: The web address of an image showcasing the vehicle in the listing.\n",
    "  - `description`: A textual description of the vehicle written by the seller.\n",
    "  - `county`: The county where the vehicle is listed for sale.\n",
    "  - `state`: The state where the vehicle is listed for sale.\n",
    "  - `lat`: The latitude coordinate of the vehicle’s location.\n",
    "  - `long`: The longitude coordinate of the vehicle’s location."
   ]
  },
  {
   "cell_type": "markdown",
   "metadata": {},
   "source": [
    "##### Are there any duplicated rows?"
   ]
  },
  {
   "cell_type": "code",
   "execution_count": 76,
   "metadata": {},
   "outputs": [
    {
     "name": "stdout",
     "output_type": "stream",
     "text": [
      "There aren't duplicate rows\n"
     ]
    }
   ],
   "source": [
    "if df.duplicated().sum() != 0:\n",
    "    print(\"There are duplicate rows\")\n",
    "else:\n",
    "    print('There aren\\'t duplicate rows')"
   ]
  },
  {
   "cell_type": "markdown",
   "metadata": {},
   "source": [
    "##### What is the current data type of each column? Are there columns having inappropriate data types?"
   ]
  },
  {
   "cell_type": "code",
   "execution_count": 77,
   "metadata": {},
   "outputs": [
    {
     "data": {
      "text/plain": [
       "id                int64\n",
       "url              object\n",
       "region           object\n",
       "region_url       object\n",
       "price             int64\n",
       "year            float64\n",
       "manufacturer     object\n",
       "model            object\n",
       "condition        object\n",
       "cylinders        object\n",
       "fuel             object\n",
       "odometer        float64\n",
       "title_status     object\n",
       "transmission     object\n",
       "VIN              object\n",
       "drive            object\n",
       "size             object\n",
       "type             object\n",
       "paint_color      object\n",
       "image_url        object\n",
       "description      object\n",
       "county          float64\n",
       "state            object\n",
       "lat             float64\n",
       "long            float64\n",
       "posting_date     object\n",
       "dtype: object"
      ]
     },
     "execution_count": 77,
     "metadata": {},
     "output_type": "execute_result"
    }
   ],
   "source": [
    "df.dtypes"
   ]
  },
  {
   "cell_type": "markdown",
   "metadata": {},
   "source": [
    "`county`: name of a place $\\rightarrow$ should be object type instead of float64 type."
   ]
  },
  {
   "cell_type": "code",
   "execution_count": 78,
   "metadata": {},
   "outputs": [
    {
     "data": {
      "text/plain": [
       "array([nan])"
      ]
     },
     "execution_count": 78,
     "metadata": {},
     "output_type": "execute_result"
    }
   ],
   "source": [
    "# Checking for distinct values\n",
    "\n",
    "df['county'].unique()"
   ]
  },
  {
   "cell_type": "markdown",
   "metadata": {},
   "source": [
    "Since all values of `county` column are missing, we remove this column from the dataset."
   ]
  },
  {
   "cell_type": "code",
   "execution_count": 79,
   "metadata": {},
   "outputs": [],
   "source": [
    "df.drop(columns='county', inplace=True)"
   ]
  },
  {
   "cell_type": "markdown",
   "metadata": {},
   "source": [
    "##### With each numerical column, how are values distributed?"
   ]
  },
  {
   "cell_type": "markdown",
   "metadata": {},
   "source": [
    "- Min? max? Are they abnormal?"
   ]
  },
  {
   "cell_type": "code",
   "execution_count": 80,
   "metadata": {},
   "outputs": [
    {
     "data": {
      "text/html": [
       "<div>\n",
       "<style scoped>\n",
       "    .dataframe tbody tr th:only-of-type {\n",
       "        vertical-align: middle;\n",
       "    }\n",
       "\n",
       "    .dataframe tbody tr th {\n",
       "        vertical-align: top;\n",
       "    }\n",
       "\n",
       "    .dataframe thead th {\n",
       "        text-align: right;\n",
       "    }\n",
       "</style>\n",
       "<table border=\"1\" class=\"dataframe\">\n",
       "  <thead>\n",
       "    <tr style=\"text-align: right;\">\n",
       "      <th></th>\n",
       "      <th>min</th>\n",
       "      <th>max</th>\n",
       "    </tr>\n",
       "  </thead>\n",
       "  <tbody>\n",
       "    <tr>\n",
       "      <th>id</th>\n",
       "      <td>7.209065e+09</td>\n",
       "      <td>7.317098e+09</td>\n",
       "    </tr>\n",
       "    <tr>\n",
       "      <th>price</th>\n",
       "      <td>0.000000e+00</td>\n",
       "      <td>3.009549e+09</td>\n",
       "    </tr>\n",
       "    <tr>\n",
       "      <th>year</th>\n",
       "      <td>1.900000e+03</td>\n",
       "      <td>2.022000e+03</td>\n",
       "    </tr>\n",
       "    <tr>\n",
       "      <th>odometer</th>\n",
       "      <td>0.000000e+00</td>\n",
       "      <td>1.000000e+07</td>\n",
       "    </tr>\n",
       "    <tr>\n",
       "      <th>lat</th>\n",
       "      <td>-4.923221e+01</td>\n",
       "      <td>7.786064e+01</td>\n",
       "    </tr>\n",
       "    <tr>\n",
       "      <th>long</th>\n",
       "      <td>-1.597199e+02</td>\n",
       "      <td>1.676299e+02</td>\n",
       "    </tr>\n",
       "  </tbody>\n",
       "</table>\n",
       "</div>"
      ],
      "text/plain": [
       "                   min           max\n",
       "id        7.209065e+09  7.317098e+09\n",
       "price     0.000000e+00  3.009549e+09\n",
       "year      1.900000e+03  2.022000e+03\n",
       "odometer  0.000000e+00  1.000000e+07\n",
       "lat      -4.923221e+01  7.786064e+01\n",
       "long     -1.597199e+02  1.676299e+02"
      ]
     },
     "execution_count": 80,
     "metadata": {},
     "output_type": "execute_result"
    }
   ],
   "source": [
    "numerical_features = df.select_dtypes('number').columns\n",
    "\n",
    "min_vals = df[numerical_features].min(axis=0)\n",
    "max_vals = df[numerical_features].max(axis=0)\n",
    "\n",
    "min_max_numeric = pd.DataFrame({'min': min_vals, 'max': max_vals})\n",
    "min_max_numeric"
   ]
  },
  {
   "cell_type": "markdown",
   "metadata": {},
   "source": [
    "Min value of `price` is **0**, which is abnormal. Therefore, we can consider **0** as **missing values**. "
   ]
  },
  {
   "cell_type": "code",
   "execution_count": 81,
   "metadata": {},
   "outputs": [],
   "source": [
    "# Convert all zero values of price column to NaN\n",
    "\n",
    "df['price'] = df['price'].replace(0, np.nan)"
   ]
  },
  {
   "cell_type": "markdown",
   "metadata": {},
   "source": [
    "- What is the percentage of missing values?"
   ]
  },
  {
   "cell_type": "code",
   "execution_count": 82,
   "metadata": {},
   "outputs": [
    {
     "data": {
      "image/png": "[encoded data removed]",
      "text/plain": [
       "<Figure size 640x480 with 1 Axes>"
      ]
     },
     "metadata": {},
     "output_type": "display_data"
    }
   ],
   "source": [
    "missing_numeric = df[numerical_features].isna().sum()/len(df)\n",
    "missing_numeric = missing_numeric.sort_values()\n",
    "\n",
    "plt.bar(missing_numeric.index, missing_numeric.values, color='green')\n",
    "plt.xlabel('Features')\n",
    "plt.ylabel('Percentage')\n",
    "plt.title('Percentage of missing values of numerical features');"
   ]
  },
  {
   "cell_type": "markdown",
   "metadata": {},
   "source": [
    "##### With each categorical column, how are values distributed?"
   ]
  },
  {
   "cell_type": "markdown",
   "metadata": {},
   "source": [
    "### **3. Asking meaningful questions**"
   ]
  },
  {
   "cell_type": "markdown",
   "metadata": {},
   "source": [
    "##### **What factors most significantly impact used car prices?**\n",
    "- This give us the insight of how each features affect the car pricing. The sellers can base on this to decide the price of the car which they want to sell to make the most of it.\n",
    "- For buyers, this can help to determine how valuable a car is before buying it, this can help prevent buying bad cars with crazy price.\n",
    "\n",
    "##### **What is the common trend of all sold cars (manufacturer, year, odometer,...)? What it says about the used cars in American?**\n",
    "- Knowing the habbit of customers can help the sellers focus on what the customers are looking for so as to push the consumptions.\n",
    "- The manufacturers can base on this to adjust their products to fit with more people."
   ]
  }
 ],
 "metadata": {
  "kernelspec": {
   "display_name": "min_ds-env",
   "language": "python",
   "name": "python3"
  },
  "language_info": {
   "codemirror_mode": {
    "name": "ipython",
    "version": 3
   },
   "file_extension": ".py",
   "mimetype": "text/x-python",
   "name": "python",
   "nbconvert_exporter": "python",
   "pygments_lexer": "ipython3",
   "version": "3.12.7"
  }
 },
 "nbformat": 4,
 "nbformat_minor": 2
}
