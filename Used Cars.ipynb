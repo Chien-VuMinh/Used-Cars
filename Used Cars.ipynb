{
 "cells": [
  {
   "cell_type": "markdown",
   "metadata": {},
   "source": [
    "# Used-Cars\n",
    "\n",
    "## Programming for Data Science Course from University of Science\n",
    "## Final project\n",
    "\n",
    "\n",
    "\n",
    "### Team members\n",
    "<center>\n",
    "\n",
    "|MEMBERS           |ID     |\n",
    "|:-------------------|:-------|\n",
    "|Vũ Minh Chiến        |22127045 |\n",
    "|Quách Trần Quán Vinh |22127460 |\n",
    "\n",
    "</center>"
   ]
  },
  {
   "cell_type": "markdown",
   "metadata": {},
   "source": [
    "### **1. Collecting data**\n",
    "\n",
    "What subject is your data about?\n",
    "- Craigslist is the world's largest collection of used vehicles for sale, this dataset includes part of used vehicle entry within the United States on Craigslist.\n",
    "\n",
    "What is the source of your data?\n",
    "- The source of this data set can be found in [kaggle](https://www.kaggle.com/datasets/austinreese/craigslist-carstrucks-data/data). For this project, we have reduce the origin data set, which contains 426880 rows, down to 150000 rows (the reason for this will be mentioned in reflection part).\n",
    "\n",
    "Do authors of this data allow you to use like this?\n",
    "- Yes, this data set have `CC0: Public Domain` license (you can find more informaitons about the license [here](https://creativecommons.org/publicdomain/zero/1.0/)).\n",
    "\n",
    "How did authors collect data?\n",
    "- The arthor collect data by a web application built with Flask which scrapes used vehicle listings weekly from all regional Craigslist sites in the United States (you can find more informaitons on scraping process [here](https://github.com/AustinReese/UsedVehicleSearch))."
   ]
  },
  {
   "cell_type": "markdown",
   "metadata": {},
   "source": [
    "##### Import necessary libraries"
   ]
  },
  {
   "cell_type": "code",
   "execution_count": 59,
   "metadata": {},
   "outputs": [],
   "source": [
    "import zipfile\n",
    "import pandas as pd\n",
    "import matplotlib.pyplot as plt\n",
    "import numpy as np"
   ]
  },
  {
   "cell_type": "markdown",
   "metadata": {},
   "source": [
    "##### Read the dataset"
   ]
  },
  {
   "cell_type": "code",
   "execution_count": 60,
   "metadata": {},
   "outputs": [],
   "source": [
    "df = pd.read_csv('vehicles.zip', delimiter=',', compression='zip')"
   ]
  },
  {
   "cell_type": "markdown",
   "metadata": {},
   "source": [
    "### **2. Exploring data**"
   ]
  },
  {
   "cell_type": "code",
   "execution_count": 61,
   "metadata": {},
   "outputs": [
    {
     "data": {
      "text/html": [
       "<div>\n",
       "<style scoped>\n",
       "    .dataframe tbody tr th:only-of-type {\n",
       "        vertical-align: middle;\n",
       "    }\n",
       "\n",
       "    .dataframe tbody tr th {\n",
       "        vertical-align: top;\n",
       "    }\n",
       "\n",
       "    .dataframe thead th {\n",
       "        text-align: right;\n",
       "    }\n",
       "</style>\n",
       "<table border=\"1\" class=\"dataframe\">\n",
       "  <thead>\n",
       "    <tr style=\"text-align: right;\">\n",
       "      <th></th>\n",
       "      <th>id</th>\n",
       "      <th>url</th>\n",
       "      <th>region</th>\n",
       "      <th>region_url</th>\n",
       "      <th>price</th>\n",
       "      <th>year</th>\n",
       "      <th>manufacturer</th>\n",
       "      <th>model</th>\n",
       "      <th>condition</th>\n",
       "      <th>cylinders</th>\n",
       "      <th>...</th>\n",
       "      <th>size</th>\n",
       "      <th>type</th>\n",
       "      <th>paint_color</th>\n",
       "      <th>image_url</th>\n",
       "      <th>description</th>\n",
       "      <th>county</th>\n",
       "      <th>state</th>\n",
       "      <th>lat</th>\n",
       "      <th>long</th>\n",
       "      <th>posting_date</th>\n",
       "    </tr>\n",
       "  </thead>\n",
       "  <tbody>\n",
       "    <tr>\n",
       "      <th>33177</th>\n",
       "      <td>7316692473</td>\n",
       "      <td>https://greatfalls.craigslist.org/ctd/d/coeur-...</td>\n",
       "      <td>great falls</td>\n",
       "      <td>https://greatfalls.craigslist.org</td>\n",
       "      <td>27998</td>\n",
       "      <td>2014.0</td>\n",
       "      <td>ram</td>\n",
       "      <td>1500 longhorn</td>\n",
       "      <td>NaN</td>\n",
       "      <td>NaN</td>\n",
       "      <td>...</td>\n",
       "      <td>NaN</td>\n",
       "      <td>NaN</td>\n",
       "      <td>NaN</td>\n",
       "      <td>https://images.craigslist.org/00R0R_f9rzLAayYB...</td>\n",
       "      <td>For more information on this Ram and to access...</td>\n",
       "      <td>NaN</td>\n",
       "      <td>mt</td>\n",
       "      <td>47.696062</td>\n",
       "      <td>-116.781406</td>\n",
       "      <td>2021-05-04T08:13:19-0600</td>\n",
       "    </tr>\n",
       "    <tr>\n",
       "      <th>32513</th>\n",
       "      <td>7314775938</td>\n",
       "      <td>https://grandrapids.craigslist.org/ctd/d/grant...</td>\n",
       "      <td>grand rapids</td>\n",
       "      <td>https://grandrapids.craigslist.org</td>\n",
       "      <td>13999</td>\n",
       "      <td>2013.0</td>\n",
       "      <td>honda</td>\n",
       "      <td>pilot</td>\n",
       "      <td>good</td>\n",
       "      <td>6 cylinders</td>\n",
       "      <td>...</td>\n",
       "      <td>full-size</td>\n",
       "      <td>SUV</td>\n",
       "      <td>white</td>\n",
       "      <td>https://images.craigslist.org/00C0C_4bRgrs0qTN...</td>\n",
       "      <td>2013 Honda Pilot 4WD 4dr EX-L w/RES - $13,999 ...</td>\n",
       "      <td>NaN</td>\n",
       "      <td>mi</td>\n",
       "      <td>43.341160</td>\n",
       "      <td>-85.810760</td>\n",
       "      <td>2021-04-30T10:04:54-0400</td>\n",
       "    </tr>\n",
       "    <tr>\n",
       "      <th>87171</th>\n",
       "      <td>7311375943</td>\n",
       "      <td>https://stlouis.craigslist.org/ctd/d/saint-lou...</td>\n",
       "      <td>st louis, MO</td>\n",
       "      <td>https://stlouis.craigslist.org</td>\n",
       "      <td>35590</td>\n",
       "      <td>2015.0</td>\n",
       "      <td>dodge</td>\n",
       "      <td>challenger srt 392 coupe</td>\n",
       "      <td>good</td>\n",
       "      <td>8 cylinders</td>\n",
       "      <td>...</td>\n",
       "      <td>NaN</td>\n",
       "      <td>coupe</td>\n",
       "      <td>NaN</td>\n",
       "      <td>https://images.craigslist.org/00N0N_1xMPvfxRAI...</td>\n",
       "      <td>Carvana is the safer way to buy a car During t...</td>\n",
       "      <td>NaN</td>\n",
       "      <td>il</td>\n",
       "      <td>38.630000</td>\n",
       "      <td>-90.240000</td>\n",
       "      <td>2021-04-23T10:50:54-0500</td>\n",
       "    </tr>\n",
       "    <tr>\n",
       "      <th>97174</th>\n",
       "      <td>7311915721</td>\n",
       "      <td>https://wichita.craigslist.org/ctd/d/wichita-2...</td>\n",
       "      <td>wichita</td>\n",
       "      <td>https://wichita.craigslist.org</td>\n",
       "      <td>8499</td>\n",
       "      <td>2009.0</td>\n",
       "      <td>ram</td>\n",
       "      <td>1500</td>\n",
       "      <td>excellent</td>\n",
       "      <td>8 cylinders</td>\n",
       "      <td>...</td>\n",
       "      <td>full-size</td>\n",
       "      <td>pickup</td>\n",
       "      <td>red</td>\n",
       "      <td>https://images.craigslist.org/00L0L_5wz7MnrZrp...</td>\n",
       "      <td>2009 Dodge Ram 4X4 Crew Cab V8 Hemi 5.7L Runs ...</td>\n",
       "      <td>NaN</td>\n",
       "      <td>ks</td>\n",
       "      <td>37.666123</td>\n",
       "      <td>-97.335516</td>\n",
       "      <td>2021-04-24T11:41:13-0500</td>\n",
       "    </tr>\n",
       "    <tr>\n",
       "      <th>95627</th>\n",
       "      <td>7307887904</td>\n",
       "      <td>https://wausau.craigslist.org/ctd/d/loyal-2017...</td>\n",
       "      <td>wausau</td>\n",
       "      <td>https://wausau.craigslist.org</td>\n",
       "      <td>34995</td>\n",
       "      <td>2017.0</td>\n",
       "      <td>chevrolet</td>\n",
       "      <td>silverado 2500hd</td>\n",
       "      <td>excellent</td>\n",
       "      <td>8 cylinders</td>\n",
       "      <td>...</td>\n",
       "      <td>NaN</td>\n",
       "      <td>NaN</td>\n",
       "      <td>NaN</td>\n",
       "      <td>https://images.craigslist.org/00V0V_4TKKa4GUAI...</td>\n",
       "      <td>6.0L V8 REMOTE START 4X4 CREW RUST FREE SOUTHE...</td>\n",
       "      <td>NaN</td>\n",
       "      <td>wi</td>\n",
       "      <td>44.741365</td>\n",
       "      <td>-90.485795</td>\n",
       "      <td>2021-04-16T14:34:43-0500</td>\n",
       "    </tr>\n",
       "  </tbody>\n",
       "</table>\n",
       "<p>5 rows × 26 columns</p>\n",
       "</div>"
      ],
      "text/plain": [
       "               id                                                url  \\\n",
       "33177  7316692473  https://greatfalls.craigslist.org/ctd/d/coeur-...   \n",
       "32513  7314775938  https://grandrapids.craigslist.org/ctd/d/grant...   \n",
       "87171  7311375943  https://stlouis.craigslist.org/ctd/d/saint-lou...   \n",
       "97174  7311915721  https://wichita.craigslist.org/ctd/d/wichita-2...   \n",
       "95627  7307887904  https://wausau.craigslist.org/ctd/d/loyal-2017...   \n",
       "\n",
       "             region                          region_url  price    year  \\\n",
       "33177   great falls   https://greatfalls.craigslist.org  27998  2014.0   \n",
       "32513  grand rapids  https://grandrapids.craigslist.org  13999  2013.0   \n",
       "87171  st louis, MO      https://stlouis.craigslist.org  35590  2015.0   \n",
       "97174       wichita      https://wichita.craigslist.org   8499  2009.0   \n",
       "95627        wausau       https://wausau.craigslist.org  34995  2017.0   \n",
       "\n",
       "      manufacturer                     model  condition    cylinders  ...  \\\n",
       "33177          ram             1500 longhorn        NaN          NaN  ...   \n",
       "32513        honda                     pilot       good  6 cylinders  ...   \n",
       "87171        dodge  challenger srt 392 coupe       good  8 cylinders  ...   \n",
       "97174          ram                      1500  excellent  8 cylinders  ...   \n",
       "95627    chevrolet          silverado 2500hd  excellent  8 cylinders  ...   \n",
       "\n",
       "            size    type paint_color  \\\n",
       "33177        NaN     NaN         NaN   \n",
       "32513  full-size     SUV       white   \n",
       "87171        NaN   coupe         NaN   \n",
       "97174  full-size  pickup         red   \n",
       "95627        NaN     NaN         NaN   \n",
       "\n",
       "                                               image_url  \\\n",
       "33177  https://images.craigslist.org/00R0R_f9rzLAayYB...   \n",
       "32513  https://images.craigslist.org/00C0C_4bRgrs0qTN...   \n",
       "87171  https://images.craigslist.org/00N0N_1xMPvfxRAI...   \n",
       "97174  https://images.craigslist.org/00L0L_5wz7MnrZrp...   \n",
       "95627  https://images.craigslist.org/00V0V_4TKKa4GUAI...   \n",
       "\n",
       "                                             description county state  \\\n",
       "33177  For more information on this Ram and to access...    NaN    mt   \n",
       "32513  2013 Honda Pilot 4WD 4dr EX-L w/RES - $13,999 ...    NaN    mi   \n",
       "87171  Carvana is the safer way to buy a car During t...    NaN    il   \n",
       "97174  2009 Dodge Ram 4X4 Crew Cab V8 Hemi 5.7L Runs ...    NaN    ks   \n",
       "95627  6.0L V8 REMOTE START 4X4 CREW RUST FREE SOUTHE...    NaN    wi   \n",
       "\n",
       "             lat        long              posting_date  \n",
       "33177  47.696062 -116.781406  2021-05-04T08:13:19-0600  \n",
       "32513  43.341160  -85.810760  2021-04-30T10:04:54-0400  \n",
       "87171  38.630000  -90.240000  2021-04-23T10:50:54-0500  \n",
       "97174  37.666123  -97.335516  2021-04-24T11:41:13-0500  \n",
       "95627  44.741365  -90.485795  2021-04-16T14:34:43-0500  \n",
       "\n",
       "[5 rows x 26 columns]"
      ]
     },
     "execution_count": 61,
     "metadata": {},
     "output_type": "execute_result"
    }
   ],
   "source": [
    "# display 5 rows for visualize\n",
    "df.sample(5)"
   ]
  },
  {
   "cell_type": "markdown",
   "metadata": {},
   "source": [
    "##### How many rows and columns are there in the dataset?"
   ]
  },
  {
   "cell_type": "code",
   "execution_count": 62,
   "metadata": {},
   "outputs": [
    {
     "name": "stdout",
     "output_type": "stream",
     "text": [
      "Number of rows: 100000 \n",
      "Number of columns: 26\n"
     ]
    }
   ],
   "source": [
    "rows, cols = df.shape\n",
    "print(f'Number of rows: {rows} \\nNumber of columns: {cols}')"
   ]
  },
  {
   "cell_type": "markdown",
   "metadata": {},
   "source": [
    "##### What is the meaning of each row/column?\n",
    "\n",
    "- Each row corresponds to an used car with different attributes being sale.\n",
    "- Columns meaning:\n",
    "  - `id`: A unique identifier for each vehicle. Used to distinguish records in the dataset.\n",
    "  - `url`: A **Craigslist** web address of the vehicle.\n",
    "  - `region`: The geographic area where the vehicle is listed for sale.\n",
    "  - `region_url`: A **Craigslist** web address for the region's page where the vehicle is listed..\n",
    "  - `price`: Price of the vehicle.\n",
    "  - `year`: The manufacturing year of the vehicle.\n",
    "  - `manufacturer`: The brand or company that manufactured the vehicle.\n",
    "  - `model`: The specific model of the vehicle.\n",
    "  - `condition`: The state of the vehicle.\n",
    "  - `cylinders`: The number of cylinders in the engine.\n",
    "  - `fuel`: The type of fuel the vehicle uses.\n",
    "  - `odometer`: The mileage of the vehicle at the time of listing.\n",
    "  - `title_status`: The legal status of the vehicle's title (e.g., clean, salvage).\n",
    "  - `transmission`: The type of transmission system (e.g., automatic, manual).\n",
    "  - `VIN`: Vehicle Identification Number—a unique code assigned to every vehicle.\n",
    "  - `drive`: The drivetrain type (e.g., front-wheel drive (FWD), rear-wheel drive (RWD)).\n",
    "  - `size`: The physical size of the vehicle.\n",
    "  - `type`: The vehicle's purpose or category (e.g., SUV, sedan, truck).\n",
    "  - `paint_color`: The color of the vehicle's exterior paint.\n",
    "  - `image_url`: The web address of an image showcasing the vehicle in the listing.\n",
    "  - `description`: A textual description of the vehicle written by the seller.\n",
    "  - `county`: The county where the vehicle is listed for sale.\n",
    "  - `state`: The state where the vehicle is listed for sale.\n",
    "  - `lat`: The latitude coordinate of the vehicle’s location.\n",
    "  - `long`: The longitude coordinate of the vehicle’s location.\n",
    "  - `posting_date`: The date this car has been post on the website."
   ]
  },
  {
   "cell_type": "markdown",
   "metadata": {},
   "source": [
    "##### Are there any duplicated rows?"
   ]
  },
  {
   "cell_type": "code",
   "execution_count": 63,
   "metadata": {},
   "outputs": [
    {
     "name": "stdout",
     "output_type": "stream",
     "text": [
      "There aren't duplicate rows\n"
     ]
    }
   ],
   "source": [
    "if df.duplicated().sum() != 0:\n",
    "    print(\"There are duplicate rows\")\n",
    "else:\n",
    "    print('There aren\\'t duplicate rows')"
   ]
  },
  {
   "cell_type": "markdown",
   "metadata": {},
   "source": [
    "##### What is the current data type of each column? Are there columns having inappropriate data types?"
   ]
  },
  {
   "cell_type": "code",
   "execution_count": 64,
   "metadata": {},
   "outputs": [
    {
     "data": {
      "text/plain": [
       "id                int64\n",
       "url              object\n",
       "region           object\n",
       "region_url       object\n",
       "price             int64\n",
       "year            float64\n",
       "manufacturer     object\n",
       "model            object\n",
       "condition        object\n",
       "cylinders        object\n",
       "fuel             object\n",
       "odometer        float64\n",
       "title_status     object\n",
       "transmission     object\n",
       "VIN              object\n",
       "drive            object\n",
       "size             object\n",
       "type             object\n",
       "paint_color      object\n",
       "image_url        object\n",
       "description      object\n",
       "county          float64\n",
       "state            object\n",
       "lat             float64\n",
       "long            float64\n",
       "posting_date     object\n",
       "dtype: object"
      ]
     },
     "execution_count": 64,
     "metadata": {},
     "output_type": "execute_result"
    }
   ],
   "source": [
    "df.dtypes"
   ]
  },
  {
   "cell_type": "markdown",
   "metadata": {},
   "source": [
    "`county`: name of a place $\\rightarrow$ should be object type instead of float64 type."
   ]
  },
  {
   "cell_type": "code",
   "execution_count": 65,
   "metadata": {},
   "outputs": [
    {
     "data": {
      "text/plain": [
       "array([nan])"
      ]
     },
     "execution_count": 65,
     "metadata": {},
     "output_type": "execute_result"
    }
   ],
   "source": [
    "# Checking for distinct values\n",
    "df['county'].unique()"
   ]
  },
  {
   "cell_type": "markdown",
   "metadata": {},
   "source": [
    "Since all values of `county` column are missing, we remove this column from the dataset."
   ]
  },
  {
   "cell_type": "code",
   "execution_count": 66,
   "metadata": {},
   "outputs": [],
   "source": [
    "df.drop(columns='county', inplace=True)"
   ]
  },
  {
   "cell_type": "markdown",
   "metadata": {},
   "source": [
    "##### With each numerical column, how are values distributed?"
   ]
  },
  {
   "cell_type": "markdown",
   "metadata": {},
   "source": [
    "- Min? max? Are they abnormal?"
   ]
  },
  {
   "cell_type": "code",
   "execution_count": 67,
   "metadata": {},
   "outputs": [
    {
     "data": {
      "text/html": [
       "<div>\n",
       "<style scoped>\n",
       "    .dataframe tbody tr th:only-of-type {\n",
       "        vertical-align: middle;\n",
       "    }\n",
       "\n",
       "    .dataframe tbody tr th {\n",
       "        vertical-align: top;\n",
       "    }\n",
       "\n",
       "    .dataframe thead th {\n",
       "        text-align: right;\n",
       "    }\n",
       "</style>\n",
       "<table border=\"1\" class=\"dataframe\">\n",
       "  <thead>\n",
       "    <tr style=\"text-align: right;\">\n",
       "      <th></th>\n",
       "      <th>min</th>\n",
       "      <th>max</th>\n",
       "    </tr>\n",
       "  </thead>\n",
       "  <tbody>\n",
       "    <tr>\n",
       "      <th>id</th>\n",
       "      <td>7.209065e+09</td>\n",
       "      <td>7.317098e+09</td>\n",
       "    </tr>\n",
       "    <tr>\n",
       "      <th>price</th>\n",
       "      <td>0.000000e+00</td>\n",
       "      <td>3.009549e+09</td>\n",
       "    </tr>\n",
       "    <tr>\n",
       "      <th>year</th>\n",
       "      <td>1.900000e+03</td>\n",
       "      <td>2.022000e+03</td>\n",
       "    </tr>\n",
       "    <tr>\n",
       "      <th>odometer</th>\n",
       "      <td>0.000000e+00</td>\n",
       "      <td>1.000000e+07</td>\n",
       "    </tr>\n",
       "    <tr>\n",
       "      <th>lat</th>\n",
       "      <td>-4.923221e+01</td>\n",
       "      <td>7.786064e+01</td>\n",
       "    </tr>\n",
       "    <tr>\n",
       "      <th>long</th>\n",
       "      <td>-1.597199e+02</td>\n",
       "      <td>1.676299e+02</td>\n",
       "    </tr>\n",
       "  </tbody>\n",
       "</table>\n",
       "</div>"
      ],
      "text/plain": [
       "                   min           max\n",
       "id        7.209065e+09  7.317098e+09\n",
       "price     0.000000e+00  3.009549e+09\n",
       "year      1.900000e+03  2.022000e+03\n",
       "odometer  0.000000e+00  1.000000e+07\n",
       "lat      -4.923221e+01  7.786064e+01\n",
       "long     -1.597199e+02  1.676299e+02"
      ]
     },
     "execution_count": 67,
     "metadata": {},
     "output_type": "execute_result"
    }
   ],
   "source": [
    "numerical_features = df.select_dtypes('number').columns\n",
    "\n",
    "min_vals = df[numerical_features].min(axis=0)\n",
    "max_vals = df[numerical_features].max(axis=0)\n",
    "\n",
    "min_max_numeric = pd.DataFrame({'min': min_vals, 'max': max_vals})\n",
    "min_max_numeric"
   ]
  },
  {
   "cell_type": "markdown",
   "metadata": {},
   "source": [
    "Min value of `price` is **0**, which is abnormal. Therefore, we can consider **0** as **missing values**. "
   ]
  },
  {
   "cell_type": "code",
   "execution_count": 68,
   "metadata": {},
   "outputs": [],
   "source": [
    "# Convert all zero values of price column to NaN\n",
    "df['price'] = df['price'].replace(0, np.nan)"
   ]
  },
  {
   "cell_type": "markdown",
   "metadata": {},
   "source": [
    "- What is the percentage of missing values?"
   ]
  },
  {
   "cell_type": "code",
   "execution_count": 69,
   "metadata": {},
   "outputs": [
    {
     "data": {
      "image/png": "[encoded data removed]",
      "text/plain": [
       "<Figure size 640x480 with 1 Axes>"
      ]
     },
     "metadata": {},
     "output_type": "display_data"
    }
   ],
   "source": [
    "missing_numeric = df[numerical_features].isna().sum()/len(df) * 100\n",
    "missing_numeric = missing_numeric.sort_values()\n",
    "\n",
    "bars = plt.bar(missing_numeric.index, missing_numeric.values, color='green')\n",
    "\n",
    "for bar in bars:\n",
    "    plt.text(bar.get_x() + bar.get_width() / 2, bar.get_height(),\n",
    "             f'{bar.get_height():.2f}', ha='center', va='bottom', fontsize=12)\n",
    "    \n",
    "plt.ylim((0, 9))\n",
    "plt.xlabel('Features')\n",
    "plt.ylabel('Percentage')\n",
    "plt.title('Percentage of missing values of numerical features');"
   ]
  },
  {
   "cell_type": "markdown",
   "metadata": {},
   "source": [
    "##### With each categorical column, how are values distributed?\n",
    "\n",
    "- Visualize the missing values in catergorical columns"
   ]
  },
  {
   "cell_type": "code",
   "execution_count": 70,
   "metadata": {},
   "outputs": [
    {
     "data": {
      "image/png": "[encoded data removed]",
      "text/plain": [
       "<Figure size 1500x500 with 1 Axes>"
      ]
     },
     "metadata": {},
     "output_type": "display_data"
    }
   ],
   "source": [
    "# get all object columns\n",
    "object_features = df.select_dtypes('object').columns\n",
    "\n",
    "# get the percentage of missing values\n",
    "object_features_values = df[object_features].isna().sum()/rows * 100\n",
    "\n",
    "# sort values in ascending order\n",
    "object_features_values = object_features_values.sort_values(ascending=True)\n",
    "\n",
    "# visualize the missing value with a bar chart\n",
    "plt.figure(figsize=(15, 5))\n",
    "bars = plt.bar(object_features_values.index, object_features_values.values, color='green')\n",
    "\n",
    "# add notation to bar chart\n",
    "for bar in bars:\n",
    "    plt.text(bar.get_x() + bar.get_width() / 2, bar.get_height(),\n",
    "             f'{bar.get_height():.2f}', ha='center', va='bottom', fontsize=12)\n",
    "\n",
    "plt.ylim((0, 80))\n",
    "plt.xticks(rotation=90)\n",
    "plt.xlabel('Features')\n",
    "plt.ylabel('Percentage')\n",
    "plt.title('Percentage of missing values of categorical features');"
   ]
  },
  {
   "cell_type": "markdown",
   "metadata": {},
   "source": [
    "- The column `size` have a significant missing values so dropping this column is the best option"
   ]
  },
  {
   "cell_type": "code",
   "execution_count": 71,
   "metadata": {},
   "outputs": [],
   "source": [
    "df.drop(columns='size', inplace=True)"
   ]
  },
  {
   "cell_type": "markdown",
   "metadata": {},
   "source": [
    "#### Take a closer look into other columns"
   ]
  },
  {
   "cell_type": "code",
   "execution_count": 72,
   "metadata": {},
   "outputs": [
    {
     "data": {
      "text/html": [
       "<div>\n",
       "<style scoped>\n",
       "    .dataframe tbody tr th:only-of-type {\n",
       "        vertical-align: middle;\n",
       "    }\n",
       "\n",
       "    .dataframe tbody tr th {\n",
       "        vertical-align: top;\n",
       "    }\n",
       "\n",
       "    .dataframe thead th {\n",
       "        text-align: right;\n",
       "    }\n",
       "</style>\n",
       "<table border=\"1\" class=\"dataframe\">\n",
       "  <thead>\n",
       "    <tr style=\"text-align: right;\">\n",
       "      <th></th>\n",
       "      <th>count</th>\n",
       "      <th>unique</th>\n",
       "      <th>top</th>\n",
       "      <th>freq</th>\n",
       "    </tr>\n",
       "  </thead>\n",
       "  <tbody>\n",
       "    <tr>\n",
       "      <th>url</th>\n",
       "      <td>100000</td>\n",
       "      <td>100000</td>\n",
       "      <td>https://zanesville.craigslist.org/ctd/d/carrol...</td>\n",
       "      <td>1</td>\n",
       "    </tr>\n",
       "    <tr>\n",
       "      <th>region</th>\n",
       "      <td>100000</td>\n",
       "      <td>403</td>\n",
       "      <td>columbus</td>\n",
       "      <td>847</td>\n",
       "    </tr>\n",
       "    <tr>\n",
       "      <th>region_url</th>\n",
       "      <td>100000</td>\n",
       "      <td>413</td>\n",
       "      <td>https://phoenix.craigslist.org</td>\n",
       "      <td>747</td>\n",
       "    </tr>\n",
       "    <tr>\n",
       "      <th>manufacturer</th>\n",
       "      <td>95945</td>\n",
       "      <td>42</td>\n",
       "      <td>ford</td>\n",
       "      <td>16660</td>\n",
       "    </tr>\n",
       "    <tr>\n",
       "      <th>model</th>\n",
       "      <td>98796</td>\n",
       "      <td>13749</td>\n",
       "      <td>f-150</td>\n",
       "      <td>1935</td>\n",
       "    </tr>\n",
       "    <tr>\n",
       "      <th>condition</th>\n",
       "      <td>59205</td>\n",
       "      <td>6</td>\n",
       "      <td>good</td>\n",
       "      <td>28320</td>\n",
       "    </tr>\n",
       "    <tr>\n",
       "      <th>cylinders</th>\n",
       "      <td>58332</td>\n",
       "      <td>8</td>\n",
       "      <td>6 cylinders</td>\n",
       "      <td>22137</td>\n",
       "    </tr>\n",
       "    <tr>\n",
       "      <th>fuel</th>\n",
       "      <td>99323</td>\n",
       "      <td>5</td>\n",
       "      <td>gas</td>\n",
       "      <td>83641</td>\n",
       "    </tr>\n",
       "    <tr>\n",
       "      <th>title_status</th>\n",
       "      <td>98091</td>\n",
       "      <td>6</td>\n",
       "      <td>clean</td>\n",
       "      <td>94927</td>\n",
       "    </tr>\n",
       "    <tr>\n",
       "      <th>transmission</th>\n",
       "      <td>99429</td>\n",
       "      <td>3</td>\n",
       "      <td>automatic</td>\n",
       "      <td>79021</td>\n",
       "    </tr>\n",
       "    <tr>\n",
       "      <th>VIN</th>\n",
       "      <td>62129</td>\n",
       "      <td>41510</td>\n",
       "      <td>3C6JR6DT3KG560649</td>\n",
       "      <td>59</td>\n",
       "    </tr>\n",
       "    <tr>\n",
       "      <th>drive</th>\n",
       "      <td>69405</td>\n",
       "      <td>3</td>\n",
       "      <td>4wd</td>\n",
       "      <td>30827</td>\n",
       "    </tr>\n",
       "    <tr>\n",
       "      <th>type</th>\n",
       "      <td>78156</td>\n",
       "      <td>13</td>\n",
       "      <td>sedan</td>\n",
       "      <td>20404</td>\n",
       "    </tr>\n",
       "    <tr>\n",
       "      <th>paint_color</th>\n",
       "      <td>69481</td>\n",
       "      <td>12</td>\n",
       "      <td>white</td>\n",
       "      <td>18770</td>\n",
       "    </tr>\n",
       "    <tr>\n",
       "      <th>image_url</th>\n",
       "      <td>99989</td>\n",
       "      <td>74126</td>\n",
       "      <td>https://images.craigslist.org/00N0N_1xMPvfxRAI...</td>\n",
       "      <td>1741</td>\n",
       "    </tr>\n",
       "    <tr>\n",
       "      <th>description</th>\n",
       "      <td>99989</td>\n",
       "      <td>92468</td>\n",
       "      <td>35 VEHICLES PRICED UNDER $3000!!!  BIG TIME! T...</td>\n",
       "      <td>54</td>\n",
       "    </tr>\n",
       "    <tr>\n",
       "      <th>state</th>\n",
       "      <td>100000</td>\n",
       "      <td>51</td>\n",
       "      <td>ca</td>\n",
       "      <td>11809</td>\n",
       "    </tr>\n",
       "    <tr>\n",
       "      <th>posting_date</th>\n",
       "      <td>99989</td>\n",
       "      <td>97024</td>\n",
       "      <td>2021-04-29T16:11:16-0700</td>\n",
       "      <td>5</td>\n",
       "    </tr>\n",
       "  </tbody>\n",
       "</table>\n",
       "</div>"
      ],
      "text/plain": [
       "               count  unique  \\\n",
       "url           100000  100000   \n",
       "region        100000     403   \n",
       "region_url    100000     413   \n",
       "manufacturer   95945      42   \n",
       "model          98796   13749   \n",
       "condition      59205       6   \n",
       "cylinders      58332       8   \n",
       "fuel           99323       5   \n",
       "title_status   98091       6   \n",
       "transmission   99429       3   \n",
       "VIN            62129   41510   \n",
       "drive          69405       3   \n",
       "type           78156      13   \n",
       "paint_color    69481      12   \n",
       "image_url      99989   74126   \n",
       "description    99989   92468   \n",
       "state         100000      51   \n",
       "posting_date   99989   97024   \n",
       "\n",
       "                                                            top   freq  \n",
       "url           https://zanesville.craigslist.org/ctd/d/carrol...      1  \n",
       "region                                                 columbus    847  \n",
       "region_url                       https://phoenix.craigslist.org    747  \n",
       "manufacturer                                               ford  16660  \n",
       "model                                                     f-150   1935  \n",
       "condition                                                  good  28320  \n",
       "cylinders                                           6 cylinders  22137  \n",
       "fuel                                                        gas  83641  \n",
       "title_status                                              clean  94927  \n",
       "transmission                                          automatic  79021  \n",
       "VIN                                           3C6JR6DT3KG560649     59  \n",
       "drive                                                       4wd  30827  \n",
       "type                                                      sedan  20404  \n",
       "paint_color                                               white  18770  \n",
       "image_url     https://images.craigslist.org/00N0N_1xMPvfxRAI...   1741  \n",
       "description   35 VEHICLES PRICED UNDER $3000!!!  BIG TIME! T...     54  \n",
       "state                                                        ca  11809  \n",
       "posting_date                           2021-04-29T16:11:16-0700      5  "
      ]
     },
     "execution_count": 72,
     "metadata": {},
     "output_type": "execute_result"
    }
   ],
   "source": [
    "# get all object columns\n",
    "object_features = df.select_dtypes('object').columns\n",
    "\n",
    "df[object_features].describe().T"
   ]
  },
  {
   "cell_type": "markdown",
   "metadata": {},
   "source": [
    "- Here we can see all the values with highest appearances in each categorical columns. All the columns seem normal except one,  `VIN` columns must have a unique code for each cars, but here we get 59 cars with the same `VIN`, but as we have seen above there aren't any duplicate rows in this dataset so it a little bit of confuse here. So here we can delete the columns `VIN` as well, the reason is we already have the columns `id` with 100.000 distinct values for indentify each cars, moreover this column doesn't show much informaiton for analyzing."
   ]
  },
  {
   "cell_type": "code",
   "execution_count": 73,
   "metadata": {},
   "outputs": [],
   "source": [
    "df.drop(columns='VIN', inplace=True)"
   ]
  },
  {
   "cell_type": "markdown",
   "metadata": {},
   "source": [
    "### **3. Asking meaningful questions**"
   ]
  },
  {
   "cell_type": "markdown",
   "metadata": {},
   "source": [
    "##### **What factors most significantly impact used car prices?**\n",
    "- This give us the insight of how each features affect the car pricing. The sellers can base on this to decide the price of the car which they want to sell to make the most of it.\n",
    "- For buyers, this can help to determine how valuable a car is before buying it, this can help prevent buying bad cars with crazy price.\n",
    "\n",
    "##### **What is the common trend of all sold cars (manufacturer, year, odometer,...)? What it says about the used cars in American?**\n",
    "- Knowing the habbit of customers can help the sellers focus on what the customers are looking for so as to push the consumptions.\n",
    "- The manufacturers can base on this to adjust their products to fit with more people."
   ]
  },
  {
   "cell_type": "markdown",
   "metadata": {},
   "source": [
    "### **4. Preprocessing + analyzing data to answer each question**"
   ]
  },
  {
   "cell_type": "markdown",
   "metadata": {},
   "source": [
    "First we need to remove duplicate columns, `region` and `region_url` are duplicated so we will remove `region_url`."
   ]
  },
  {
   "cell_type": "code",
   "execution_count": 74,
   "metadata": {},
   "outputs": [],
   "source": [
    "df.drop(columns='region_url', inplace=True)"
   ]
  },
  {
   "cell_type": "markdown",
   "metadata": {},
   "source": [
    "Here we only focus on analyzing the main features that affect the cars prices most so all the redundant features such as: \n",
    "- `url`: the url to the website is useless here because it does affect the car price nor the trend of sold cars. \n",
    "- `image_url`: of course customer want to see how the car looks like, but the image_url itself doesn't have any value for analyzing. \n",
    "- `lat` and `long`: these values are quite special, they represent the specific location of where the car is. But here, we already have the value `region` instead so we could ignore these values."
   ]
  },
  {
   "cell_type": "code",
   "execution_count": 77,
   "metadata": {},
   "outputs": [],
   "source": [
    "df.drop(columns=['url', 'image_url', 'lat', 'long'], inplace=True)"
   ]
  },
  {
   "cell_type": "markdown",
   "metadata": {},
   "source": [
    "The dataset have many missing value, so we need to deal with it first. Lets look at the percentage of missing values until now."
   ]
  },
  {
   "cell_type": "code",
   "execution_count": 85,
   "metadata": {},
   "outputs": [
    {
     "data": {
      "image/png": "[encoded data removed]",
      "text/plain": [
       "<Figure size 1500x500 with 1 Axes>"
      ]
     },
     "metadata": {},
     "output_type": "display_data"
    }
   ],
   "source": [
    "# get the percentage of missing values\n",
    "missing_percent = df[df.columns].isna().sum()/rows * 100\n",
    "\n",
    "# sort values in ascending order\n",
    "missing_percent = missing_percent.sort_values(ascending=True)\n",
    "\n",
    "# visualize the missing value with a bar chart\n",
    "plt.figure(figsize=(15, 5))\n",
    "bars = plt.bar(missing_percent.index, missing_percent.values, color='green')\n",
    "\n",
    "# add notation to bar chart\n",
    "for bar in bars:\n",
    "    plt.text(bar.get_x() + bar.get_width() / 2, bar.get_height(),\n",
    "             f'{bar.get_height():.2f}', ha='center', va='bottom', fontsize=12)\n",
    "\n",
    "plt.ylim((0, 50))\n",
    "plt.xticks(rotation=90)\n",
    "plt.xlabel('Features')\n",
    "plt.ylabel('Percentage')\n",
    "plt.title('Percentage of missing values of all features');"
   ]
  },
  {
   "cell_type": "markdown",
   "metadata": {},
   "source": [
    "### **5. Reflection**"
   ]
  },
  {
   "cell_type": "markdown",
   "metadata": {},
   "source": [
    "### **6. References**\n",
    "\n"
   ]
  }
 ],
 "metadata": {
  "kernelspec": {
   "display_name": "Python 3",
   "language": "python",
   "name": "python3"
  },
  "language_info": {
   "codemirror_mode": {
    "name": "ipython",
    "version": 3
   },
   "file_extension": ".py",
   "mimetype": "text/x-python",
   "name": "python",
   "nbconvert_exporter": "python",
   "pygments_lexer": "ipython3",
   "version": "3.12.8"
  }
 },
 "nbformat": 4,
 "nbformat_minor": 2
}
