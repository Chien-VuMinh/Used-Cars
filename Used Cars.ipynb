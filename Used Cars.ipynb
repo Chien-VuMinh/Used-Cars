{
 "cells": [
  {
   "cell_type": "markdown",
   "metadata": {},
   "source": [
    "# Used-Cars\n",
    "\n",
    "## Programming for Data Science Course from University of Science\n",
    "## Final project\n",
    "\n",
    "\n",
    "\n",
    "### Team members\n",
    "<center>\n",
    "\n",
    "|Thành viên           |MSSV     |\n",
    "|:-------------------|:-------|\n",
    "|Vũ Minh Chiến        |22127045 |\n",
    "|Quách Trần Quán Vinh |22127460 |\n",
    "\n",
    "</center>"
   ]
  },
  {
   "cell_type": "markdown",
   "metadata": {},
   "source": [
    "### **1. Collecting data**\n",
    "\n",
    "What subject is your data about?\n",
    "- Craigslist is the world's largest collection of used vehicles for sale, this dataset includes part of used vehicle entry within the United States on Craigslist.\n",
    "\n",
    "What is the source of your data?\n",
    "- The source of this data set can be found in [kaggle](https://www.kaggle.com/datasets/austinreese/craigslist-carstrucks-data/data). For this project, we have reduce the origin data set, which contains 426880 rows, down to 150000 rows (the reason for this will be mentioned in reflection part).\n",
    "\n",
    "Do authors of this data allow you to use like this?\n",
    "- Yes, this data set have `CC0: Public Domain` license (you can find more informaitons about the license [here](https://creativecommons.org/publicdomain/zero/1.0/)).\n",
    "\n",
    "How did authors collect data?\n",
    "- The arthor collect data by a web application built with Flask which scrapes used vehicle listings weekly from all regional Craigslist sites in the United States (you can find more informaitons on scraping process [here](https://github.com/AustinReese/UsedVehicleSearch))."
   ]
  },
  {
   "cell_type": "markdown",
   "metadata": {},
   "source": [
    "Import necessary libraries"
   ]
  },
  {
   "cell_type": "code",
   "execution_count": 1,
   "metadata": {},
   "outputs": [],
   "source": [
    "import zipfile\n",
    "import pandas as pd"
   ]
  },
  {
   "cell_type": "markdown",
   "metadata": {},
   "source": [
    "Read the dataset"
   ]
  },
  {
   "cell_type": "code",
   "execution_count": 2,
   "metadata": {},
   "outputs": [],
   "source": [
    "df = pd.read_csv('vehicles.zip', delimiter=',',compression='zip')"
   ]
  },
  {
   "cell_type": "markdown",
   "metadata": {},
   "source": [
    "### **2. Exploring data**"
   ]
  },
  {
   "cell_type": "code",
   "execution_count": 14,
   "metadata": {},
   "outputs": [
    {
     "data": {
      "text/html": [
       "<div>\n",
       "<style scoped>\n",
       "    .dataframe tbody tr th:only-of-type {\n",
       "        vertical-align: middle;\n",
       "    }\n",
       "\n",
       "    .dataframe tbody tr th {\n",
       "        vertical-align: top;\n",
       "    }\n",
       "\n",
       "    .dataframe thead th {\n",
       "        text-align: right;\n",
       "    }\n",
       "</style>\n",
       "<table border=\"1\" class=\"dataframe\">\n",
       "  <thead>\n",
       "    <tr style=\"text-align: right;\">\n",
       "      <th></th>\n",
       "      <th>id</th>\n",
       "      <th>url</th>\n",
       "      <th>region</th>\n",
       "      <th>region_url</th>\n",
       "      <th>price</th>\n",
       "      <th>year</th>\n",
       "      <th>manufacturer</th>\n",
       "      <th>model</th>\n",
       "      <th>condition</th>\n",
       "      <th>cylinders</th>\n",
       "      <th>...</th>\n",
       "      <th>size</th>\n",
       "      <th>type</th>\n",
       "      <th>paint_color</th>\n",
       "      <th>image_url</th>\n",
       "      <th>description</th>\n",
       "      <th>county</th>\n",
       "      <th>state</th>\n",
       "      <th>lat</th>\n",
       "      <th>long</th>\n",
       "      <th>posting_date</th>\n",
       "    </tr>\n",
       "  </thead>\n",
       "  <tbody>\n",
       "    <tr>\n",
       "      <th>62999</th>\n",
       "      <td>7316982785</td>\n",
       "      <td>https://oklahomacity.craigslist.org/ctd/d/beth...</td>\n",
       "      <td>oklahoma city</td>\n",
       "      <td>https://oklahomacity.craigslist.org</td>\n",
       "      <td>1900</td>\n",
       "      <td>2007.0</td>\n",
       "      <td>nissan</td>\n",
       "      <td>titan se</td>\n",
       "      <td>good</td>\n",
       "      <td>8 cylinders</td>\n",
       "      <td>...</td>\n",
       "      <td>full-size</td>\n",
       "      <td>pickup</td>\n",
       "      <td>grey</td>\n",
       "      <td>https://images.craigslist.org/00u0u_bW2Tze5l7m...</td>\n",
       "      <td>$1900 IS THE DOWN PAYMENT. THIS IS A FINANCE C...</td>\n",
       "      <td>NaN</td>\n",
       "      <td>ok</td>\n",
       "      <td>35.513336</td>\n",
       "      <td>-97.637553</td>\n",
       "      <td>2021-05-04T17:22:33-0500</td>\n",
       "    </tr>\n",
       "    <tr>\n",
       "      <th>3141</th>\n",
       "      <td>7302069266</td>\n",
       "      <td>https://annapolis.craigslist.org/ctd/d/annapol...</td>\n",
       "      <td>annapolis</td>\n",
       "      <td>https://annapolis.craigslist.org</td>\n",
       "      <td>39590</td>\n",
       "      <td>2020.0</td>\n",
       "      <td>infiniti</td>\n",
       "      <td>q60 3.0t luxe coupe 2d</td>\n",
       "      <td>good</td>\n",
       "      <td>6 cylinders</td>\n",
       "      <td>...</td>\n",
       "      <td>NaN</td>\n",
       "      <td>coupe</td>\n",
       "      <td>silver</td>\n",
       "      <td>https://images.craigslist.org/00l0l_105RftVdbP...</td>\n",
       "      <td>Carvana is the safer way to buy a car During t...</td>\n",
       "      <td>NaN</td>\n",
       "      <td>md</td>\n",
       "      <td>38.970000</td>\n",
       "      <td>-76.500000</td>\n",
       "      <td>2021-04-05T11:21:31-0400</td>\n",
       "    </tr>\n",
       "    <tr>\n",
       "      <th>37624</th>\n",
       "      <td>7303133033</td>\n",
       "      <td>https://hudsonvalley.craigslist.org/ctd/d/crag...</td>\n",
       "      <td>hudson valley</td>\n",
       "      <td>https://hudsonvalley.craigslist.org</td>\n",
       "      <td>19995</td>\n",
       "      <td>2018.0</td>\n",
       "      <td>toyota</td>\n",
       "      <td>rav4</td>\n",
       "      <td>NaN</td>\n",
       "      <td>4 cylinders</td>\n",
       "      <td>...</td>\n",
       "      <td>NaN</td>\n",
       "      <td>SUV</td>\n",
       "      <td>black</td>\n",
       "      <td>https://images.craigslist.org/00m0m_eMuMdPlE9R...</td>\n",
       "      <td>This 2018 Toyota RAV4 Adventure has been SOLD ...</td>\n",
       "      <td>NaN</td>\n",
       "      <td>ny</td>\n",
       "      <td>41.711181</td>\n",
       "      <td>-74.403188</td>\n",
       "      <td>2021-04-07T11:34:27-0400</td>\n",
       "    </tr>\n",
       "    <tr>\n",
       "      <th>23317</th>\n",
       "      <td>7307697184</td>\n",
       "      <td>https://desmoines.craigslist.org/ctd/d/des-moi...</td>\n",
       "      <td>des moines</td>\n",
       "      <td>https://desmoines.craigslist.org</td>\n",
       "      <td>9850</td>\n",
       "      <td>2004.0</td>\n",
       "      <td>chevrolet</td>\n",
       "      <td>monte carlo</td>\n",
       "      <td>good</td>\n",
       "      <td>6 cylinders</td>\n",
       "      <td>...</td>\n",
       "      <td>mid-size</td>\n",
       "      <td>coupe</td>\n",
       "      <td>black</td>\n",
       "      <td>https://images.craigslist.org/00909_itltBKfZWn...</td>\n",
       "      <td>2004 Chevrolet Monte Carlo SS SUPERCHARGED - $...</td>\n",
       "      <td>NaN</td>\n",
       "      <td>ia</td>\n",
       "      <td>41.614356</td>\n",
       "      <td>-93.600567</td>\n",
       "      <td>2021-04-16T09:50:05-0500</td>\n",
       "    </tr>\n",
       "    <tr>\n",
       "      <th>70428</th>\n",
       "      <td>7309803804</td>\n",
       "      <td>https://raleigh.craigslist.org/ctd/d/asheboro-...</td>\n",
       "      <td>raleigh / durham / CH</td>\n",
       "      <td>https://raleigh.craigslist.org</td>\n",
       "      <td>0</td>\n",
       "      <td>2011.0</td>\n",
       "      <td>nissan</td>\n",
       "      <td>rogue</td>\n",
       "      <td>NaN</td>\n",
       "      <td>NaN</td>\n",
       "      <td>...</td>\n",
       "      <td>NaN</td>\n",
       "      <td>NaN</td>\n",
       "      <td>NaN</td>\n",
       "      <td>https://images.craigslist.org/00r0r_ickCgJblk3...</td>\n",
       "      <td>Mid State Toyota Call Sales at 336-792-4920 20...</td>\n",
       "      <td>NaN</td>\n",
       "      <td>nc</td>\n",
       "      <td>35.703359</td>\n",
       "      <td>-79.780703</td>\n",
       "      <td>2021-04-20T11:04:44-0400</td>\n",
       "    </tr>\n",
       "  </tbody>\n",
       "</table>\n",
       "<p>5 rows × 26 columns</p>\n",
       "</div>"
      ],
      "text/plain": [
       "               id                                                url  \\\n",
       "62999  7316982785  https://oklahomacity.craigslist.org/ctd/d/beth...   \n",
       "3141   7302069266  https://annapolis.craigslist.org/ctd/d/annapol...   \n",
       "37624  7303133033  https://hudsonvalley.craigslist.org/ctd/d/crag...   \n",
       "23317  7307697184  https://desmoines.craigslist.org/ctd/d/des-moi...   \n",
       "70428  7309803804  https://raleigh.craigslist.org/ctd/d/asheboro-...   \n",
       "\n",
       "                      region                           region_url  price  \\\n",
       "62999          oklahoma city  https://oklahomacity.craigslist.org   1900   \n",
       "3141               annapolis     https://annapolis.craigslist.org  39590   \n",
       "37624          hudson valley  https://hudsonvalley.craigslist.org  19995   \n",
       "23317             des moines     https://desmoines.craigslist.org   9850   \n",
       "70428  raleigh / durham / CH       https://raleigh.craigslist.org      0   \n",
       "\n",
       "         year manufacturer                   model condition    cylinders  \\\n",
       "62999  2007.0       nissan                titan se      good  8 cylinders   \n",
       "3141   2020.0     infiniti  q60 3.0t luxe coupe 2d      good  6 cylinders   \n",
       "37624  2018.0       toyota                    rav4       NaN  4 cylinders   \n",
       "23317  2004.0    chevrolet             monte carlo      good  6 cylinders   \n",
       "70428  2011.0       nissan                   rogue       NaN          NaN   \n",
       "\n",
       "       ...       size    type paint_color  \\\n",
       "62999  ...  full-size  pickup        grey   \n",
       "3141   ...        NaN   coupe      silver   \n",
       "37624  ...        NaN     SUV       black   \n",
       "23317  ...   mid-size   coupe       black   \n",
       "70428  ...        NaN     NaN         NaN   \n",
       "\n",
       "                                               image_url  \\\n",
       "62999  https://images.craigslist.org/00u0u_bW2Tze5l7m...   \n",
       "3141   https://images.craigslist.org/00l0l_105RftVdbP...   \n",
       "37624  https://images.craigslist.org/00m0m_eMuMdPlE9R...   \n",
       "23317  https://images.craigslist.org/00909_itltBKfZWn...   \n",
       "70428  https://images.craigslist.org/00r0r_ickCgJblk3...   \n",
       "\n",
       "                                             description county state  \\\n",
       "62999  $1900 IS THE DOWN PAYMENT. THIS IS A FINANCE C...    NaN    ok   \n",
       "3141   Carvana is the safer way to buy a car During t...    NaN    md   \n",
       "37624  This 2018 Toyota RAV4 Adventure has been SOLD ...    NaN    ny   \n",
       "23317  2004 Chevrolet Monte Carlo SS SUPERCHARGED - $...    NaN    ia   \n",
       "70428  Mid State Toyota Call Sales at 336-792-4920 20...    NaN    nc   \n",
       "\n",
       "             lat       long              posting_date  \n",
       "62999  35.513336 -97.637553  2021-05-04T17:22:33-0500  \n",
       "3141   38.970000 -76.500000  2021-04-05T11:21:31-0400  \n",
       "37624  41.711181 -74.403188  2021-04-07T11:34:27-0400  \n",
       "23317  41.614356 -93.600567  2021-04-16T09:50:05-0500  \n",
       "70428  35.703359 -79.780703  2021-04-20T11:04:44-0400  \n",
       "\n",
       "[5 rows x 26 columns]"
      ]
     },
     "execution_count": 14,
     "metadata": {},
     "output_type": "execute_result"
    }
   ],
   "source": [
    "# display dataset\n",
    "df.sample(5)"
   ]
  },
  {
   "cell_type": "markdown",
   "metadata": {},
   "source": [
    "##### How many rows and columns?"
   ]
  },
  {
   "cell_type": "code",
   "execution_count": 7,
   "metadata": {},
   "outputs": [
    {
     "name": "stdout",
     "output_type": "stream",
     "text": [
      "Number of rows: 100000 \n",
      "Number of columns: 26\n"
     ]
    }
   ],
   "source": [
    "rows, cols = df.shape\n",
    "print(f'Number of rows: {rows} \\nNumber of columns: {cols}')"
   ]
  },
  {
   "cell_type": "markdown",
   "metadata": {},
   "source": [
    "##### What is the meaning of each row/column?\n",
    "\n",
    "- Please refer to [kaggle](https://www.kaggle.com/datasets/austinreese/craigslist-carstrucks-data/data) in order to get the meaning of each column.\n",
    "- Each row corresponds to an used car with different attributes being sale."
   ]
  },
  {
   "cell_type": "markdown",
   "metadata": {},
   "source": [
    "##### Are there any duplicated rows?"
   ]
  },
  {
   "cell_type": "code",
   "execution_count": 11,
   "metadata": {},
   "outputs": [
    {
     "name": "stdout",
     "output_type": "stream",
     "text": [
      "There aren't duplicate rows\n"
     ]
    }
   ],
   "source": [
    "if df.duplicated().sum() != 0:\n",
    "    print(\"There are duplicate rows\")\n",
    "else:\n",
    "    print('There aren\\'t duplicate rows')"
   ]
  },
  {
   "cell_type": "markdown",
   "metadata": {},
   "source": [
    "##### What is the current data type of each column? Are there columns having inappropriate data types?"
   ]
  },
  {
   "cell_type": "code",
   "execution_count": 6,
   "metadata": {},
   "outputs": [
    {
     "data": {
      "text/plain": [
       "id                int64\n",
       "url              object\n",
       "region           object\n",
       "region_url       object\n",
       "price             int64\n",
       "year            float64\n",
       "manufacturer     object\n",
       "model            object\n",
       "condition        object\n",
       "cylinders        object\n",
       "fuel             object\n",
       "odometer        float64\n",
       "title_status     object\n",
       "transmission     object\n",
       "VIN              object\n",
       "drive            object\n",
       "size             object\n",
       "type             object\n",
       "paint_color      object\n",
       "image_url        object\n",
       "description      object\n",
       "county          float64\n",
       "state            object\n",
       "lat             float64\n",
       "long            float64\n",
       "posting_date     object\n",
       "dtype: object"
      ]
     },
     "execution_count": 6,
     "metadata": {},
     "output_type": "execute_result"
    }
   ],
   "source": [
    "df.dtypes"
   ]
  },
  {
   "cell_type": "markdown",
   "metadata": {},
   "source": [
    "`county` should be object type instead of float64 type."
   ]
  },
  {
   "cell_type": "markdown",
   "metadata": {},
   "source": [
    "##### With each numerical column, how are values distributed?"
   ]
  },
  {
   "cell_type": "markdown",
   "metadata": {},
   "source": [
    "##### With each categorical column, how are values distributed?"
   ]
  },
  {
   "cell_type": "markdown",
   "metadata": {},
   "source": [
    "### **3. Asking meaningful questions**"
   ]
  },
  {
   "cell_type": "markdown",
   "metadata": {},
   "source": [
    "##### **What factors most significantly impact used car prices?**\n",
    "- This give us the insight of how each features affect the car pricing. The sellers can base on this to decide the price of the car which they want to sell to make the most of it.\n",
    "- For buyers, this can help to determine how valuable a car is before buying it, this can help prevent buying bad cars with crazy price.\n",
    "\n",
    "##### **What is the common trend of all sold cars (manufacturer, year, odometer,...)? What it says about the used cars in American?**\n",
    "- Knowing the habbit of customers can help the sellers focus on what the customers are looking for so as to push the consumptions.\n",
    "- The manufacturers can base on this to adjust their products to fit with more people."
   ]
  }
 ],
 "metadata": {
  "kernelspec": {
   "display_name": "Python 3",
   "language": "python",
   "name": "python3"
  },
  "language_info": {
   "codemirror_mode": {
    "name": "ipython",
    "version": 3
   },
   "file_extension": ".py",
   "mimetype": "text/x-python",
   "name": "python",
   "nbconvert_exporter": "python",
   "pygments_lexer": "ipython3",
   "version": "3.12.8"
  }
 },
 "nbformat": 4,
 "nbformat_minor": 2
}
